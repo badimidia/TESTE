{
 "cells": [
  {
   "cell_type": "code",
   "execution_count": 6,
   "metadata": {},
   "outputs": [
    {
     "name": "stdout",
     "output_type": "stream",
     "text": [
      "Ações\n"
     ]
    }
   ],
   "source": [
    "risco = input('digite BX ou AL para o grau de risco:')\n",
    "valor = float(input('Digite o valor :'))\n",
    "\n",
    "if risco != 'BX' and risco !='AL':\n",
    "    print(f'risco é inválido...')\n",
    "else:\n",
    "    if risco =='BX':\n",
    "        if valor < 1000:\n",
    "            tipo = 'Poupança........'\n",
    "        else:\n",
    "            tipo = 'Renda fixa'\n",
    "    else:\n",
    "        if valor < 1000:\n",
    "            tipo = \"bitcoins\"\n",
    "        else:\n",
    "            tipo = 'Ações'\n",
    "    print(tipo)\n",
    "    print(\"teste\")\n",
    "\n",
    "\n",
    "            \n",
    "\n",
    "\n",
    "\n",
    "\n",
    "\n",
    "\n",
    "\n",
    "\n"
   ]
  }
 ],
 "metadata": {
  "kernelspec": {
   "display_name": "Python 3",
   "language": "python",
   "name": "python3"
  },
  "language_info": {
   "codemirror_mode": {
    "name": "ipython",
    "version": 3
   },
   "file_extension": ".py",
   "mimetype": "text/x-python",
   "name": "python",
   "nbconvert_exporter": "python",
   "pygments_lexer": "ipython3",
   "version": "3.12.4"
  }
 },
 "nbformat": 4,
 "nbformat_minor": 2
}
