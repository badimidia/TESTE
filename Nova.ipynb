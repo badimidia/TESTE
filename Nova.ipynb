{
 "cells": [
  {
   "cell_type": "code",
   "execution_count": 4,
   "metadata": {},
   "outputs": [
    {
     "name": "stdout",
     "output_type": "stream",
     "text": [
      "negativo\n"
     ]
    }
   ],
   "source": [
    "A=-10\n",
    "\n",
    "\n",
    "if A==0:\n",
    "    print(\"0\")\n",
    "elif A>0:\n",
    "    print(\"maior que azero\")\n",
    "else:\n",
    "    print(\"negativo\")\n",
    "    \n",
    "\n",
    "\n",
    "\n",
    "\n"
   ]
  },
  {
   "cell_type": "code",
   "execution_count": 7,
   "metadata": {},
   "outputs": [
    {
     "name": "stdout",
     "output_type": "stream",
     "text": [
      "levemente ácida\n"
     ]
    }
   ],
   "source": [
    "ph = float(input(\"digite o PH....:\"))\n",
    "if ph < 6:\n",
    "    r=\"ácida\"\n",
    "elif ph < 7:\n",
    "    r=\"levemente ácida\"\n",
    "elif ph == 7:\n",
    "    r=\"neutra\"\n",
    "elif ph < 8:\n",
    "    r=\"levemente alcalina\"\n",
    "else:\n",
    "    r=\"alcalina\"\n",
    "\n",
    "print (r)\n"
   ]
  }
 ],
 "metadata": {
  "kernelspec": {
   "display_name": "Python 3",
   "language": "python",
   "name": "python3"
  },
  "language_info": {
   "codemirror_mode": {
    "name": "ipython",
    "version": 3
   },
   "file_extension": ".py",
   "mimetype": "text/x-python",
   "name": "python",
   "nbconvert_exporter": "python",
   "pygments_lexer": "ipython3",
   "version": "3.12.4"
  }
 },
 "nbformat": 4,
 "nbformat_minor": 2
}
